{
 "cells": [
  {
   "cell_type": "code",
   "execution_count": 29,
   "id": "c63e7c7f-09df-4b19-bb5e-975ac16bf4b3",
   "metadata": {},
   "outputs": [],
   "source": [
    "import pandas as pd\n",
    "import json\n",
    "import numpy as np\n",
    "import math"
   ]
  },
  {
   "cell_type": "markdown",
   "id": "692cfbad-1e7f-4023-b6a5-e295d18fa2ca",
   "metadata": {
    "jp-MarkdownHeadingCollapsed": true,
    "tags": []
   },
   "source": [
    "# Globally"
   ]
  },
  {
   "cell_type": "code",
   "execution_count": 2,
   "id": "e4772748-6102-4b37-925d-648dac740957",
   "metadata": {},
   "outputs": [],
   "source": [
    "fisher_av_sw = pd.read_excel(\"Tests/Globally/fisher/av_sw.xlsx\")\n",
    "fisher_sw_hu = pd.read_excel(\"Tests/Globally/fisher/sw_hu.xlsx\")\n",
    "fisher_hu_av = pd.read_excel(\"Tests/Globally/fisher/hu_av.xlsx\")\n",
    "fisher_av_hu = pd.read_excel(\"Tests/Globally/fisher/av_hu.xlsx\")\n",
    "fisher_hu_sw = pd.read_excel(\"Tests/Globally/fisher/hu_sw.xlsx\")\n",
    "fisher_sw_av = pd.read_excel(\"Tests/Globally/fisher/sw_av.xlsx\")"
   ]
  },
  {
   "cell_type": "code",
   "execution_count": 3,
   "id": "723fa83c-2da9-4c16-b324-fce5d2cba940",
   "metadata": {},
   "outputs": [],
   "source": [
    "kl_av_sw = pd.read_excel(\"Tests/Globally/kl/av_sw.xlsx\")\n",
    "kl_sw_hu = pd.read_excel(\"Tests/Globally/kl/sw_hu.xlsx\")\n",
    "kl_hu_av = pd.read_excel(\"Tests/Globally/kl/hu_av.xlsx\")\n",
    "kl_av_hu = pd.read_excel(\"Tests/Globally/kl/av_hu.xlsx\")\n",
    "kl_hu_sw = pd.read_excel(\"Tests/Globally/kl/hu_sw.xlsx\")\n",
    "kl_sw_av = pd.read_excel(\"Tests/Globally/kl/sw_av.xlsx\")"
   ]
  },
  {
   "cell_type": "code",
   "execution_count": 4,
   "id": "55d5a208-6b12-49a6-816d-40f0e02a4c59",
   "metadata": {},
   "outputs": [],
   "source": [
    "student_av_sw = pd.read_excel(\"Tests/Globally/student/av_sw.xlsx\")\n",
    "student_sw_hu = pd.read_excel(\"Tests/Globally/student/sw_hu.xlsx\")\n",
    "student_hu_av = pd.read_excel(\"Tests/Globally/student/hu_av.xlsx\")\n",
    "student_av_hu = pd.read_excel(\"Tests/Globally/student/av_hu.xlsx\")\n",
    "student_hu_sw = pd.read_excel(\"Tests/Globally/student/hu_sw.xlsx\")\n",
    "student_sw_av = pd.read_excel(\"Tests/Globally/student/sw_av.xlsx\")"
   ]
  },
  {
   "cell_type": "code",
   "execution_count": 5,
   "id": "6b1c9503-9bd8-420f-a61c-8c77ea6b21ea",
   "metadata": {},
   "outputs": [],
   "source": [
    "lime_av_sw = pd.read_excel(\"Tests/Globally/lime/simlab_res/av_sw.xlsx\")\n",
    "lime_sw_hu = pd.read_excel(\"Tests/Globally/lime/simlab_res/sw_hu.xlsx\")\n",
    "lime_hu_av = pd.read_excel(\"Tests/Globally/lime/simlab_res/hu_av.xlsx\")\n",
    "lime_av_hu = pd.read_excel(\"Tests/Globally/lime/simlab_res/av_hu.xlsx\")\n",
    "lime_hu_sw = pd.read_excel(\"Tests/Globally/lime/simlab_res/hu_sw.xlsx\")\n",
    "lime_sw_av = pd.read_excel(\"Tests/Globally/lime/simlab_res/sw_av.xlsx\")"
   ]
  },
  {
   "cell_type": "code",
   "execution_count": 6,
   "id": "79908742-6ac7-4490-9b47-7581a761235c",
   "metadata": {},
   "outputs": [
    {
     "data": {
      "text/html": [
       "<div>\n",
       "<style scoped>\n",
       "    .dataframe tbody tr th:only-of-type {\n",
       "        vertical-align: middle;\n",
       "    }\n",
       "\n",
       "    .dataframe tbody tr th {\n",
       "        vertical-align: top;\n",
       "    }\n",
       "\n",
       "    .dataframe thead th {\n",
       "        text-align: right;\n",
       "    }\n",
       "</style>\n",
       "<table border=\"1\" class=\"dataframe\">\n",
       "  <thead>\n",
       "    <tr style=\"text-align: right;\">\n",
       "      <th></th>\n",
       "      <th>Unnamed: 0</th>\n",
       "      <th>index</th>\n",
       "      <th>classes</th>\n",
       "      <th>codon</th>\n",
       "      <th>statistic</th>\n",
       "      <th>pvalue</th>\n",
       "      <th>foldChange</th>\n",
       "      <th>key</th>\n",
       "    </tr>\n",
       "  </thead>\n",
       "  <tbody>\n",
       "  </tbody>\n",
       "</table>\n",
       "</div>"
      ],
      "text/plain": [
       "Empty DataFrame\n",
       "Columns: [Unnamed: 0, index, classes, codon, statistic, pvalue, foldChange, key]\n",
       "Index: []"
      ]
     },
     "execution_count": 6,
     "metadata": {},
     "output_type": "execute_result"
    }
   ],
   "source": [
    "student_av_sw"
   ]
  },
  {
   "cell_type": "code",
   "execution_count": 7,
   "id": "f31ac9b5-dee1-4cfc-8579-49c2a8607ea3",
   "metadata": {},
   "outputs": [],
   "source": [
    "codons = np.unique(np.concatenate((\n",
    "list(fisher_av_sw['codon']),\n",
    "list(kl_av_sw['codons']),\n",
    "list(student_av_sw['codon']),\n",
    "list(lime_av_sw['Codon']),\n",
    "list(fisher_sw_hu['codon']),\n",
    "list(kl_sw_hu['codons']),\n",
    "list(student_sw_hu['codon']),\n",
    "list(lime_sw_hu['Codon']),\n",
    "list(fisher_hu_av['codon']),\n",
    "list(kl_hu_av['codons']),\n",
    "list(student_hu_av['codon']),\n",
    "list(lime_hu_av['Codon']),\n",
    "list(fisher_av_hu['codon']),\n",
    "list(kl_av_hu['codons']),\n",
    "list(student_av_hu['codon']),\n",
    "list(lime_av_hu['Codon']),\n",
    "list(fisher_hu_sw['codon']),\n",
    "list(kl_hu_sw['codons']),\n",
    "list(student_hu_sw['codon']),\n",
    "list(lime_hu_sw['Codon']),\n",
    "list(fisher_sw_av['codon']),\n",
    "list(kl_sw_av['codons']),\n",
    "list(student_sw_av['codon']),\n",
    "list(lime_sw_av['Codon'])\n",
    ")))"
   ]
  },
  {
   "cell_type": "code",
   "execution_count": 8,
   "id": "b3f37e82-e7bb-4594-b02c-aa92101f7902",
   "metadata": {},
   "outputs": [
    {
     "data": {
      "text/plain": [
       "array(['AAA', 'AAC', 'AAG', 'AAT', 'ACA', 'ACC', 'ACG', 'ACT', 'AGA',\n",
       "       'AGC', 'AGG', 'AGT', 'ATA', 'ATC', 'ATG', 'ATT', 'CAA', 'CAC',\n",
       "       'CAG', 'CAT', 'CCA', 'CCC', 'CCG', 'CCT', 'CGA', 'CGC', 'CGG',\n",
       "       'CGT', 'CTA', 'CTC', 'CTG', 'CTT', 'GAA', 'GAC', 'GAG', 'GAT',\n",
       "       'GCA', 'GCC', 'GCG', 'GCT', 'GGA', 'GGC', 'GGG', 'GGT', 'GTA',\n",
       "       'GTC', 'GTG', 'GTT', 'TAC', 'TAT', 'TCA', 'TCC', 'TCG', 'TCT',\n",
       "       'TGC', 'TGG', 'TGT', 'TTA', 'TTC', 'TTG', 'TTT'], dtype='<U32')"
      ]
     },
     "execution_count": 8,
     "metadata": {},
     "output_type": "execute_result"
    }
   ],
   "source": [
    "codons"
   ]
  },
  {
   "cell_type": "code",
   "execution_count": 9,
   "id": "603cbdb7-5bf4-48f6-b6dc-dcea74812eba",
   "metadata": {},
   "outputs": [],
   "source": [
    "codons = ['AAA', 'AAC', 'AAG', 'AAT', 'ACA', 'ACC', 'ACG', 'ACT', 'AGA', 'AGC', 'AGG', 'AGT', 'ATA', 'ATC', 'ATG', 'ATT', 'CAA', 'CAC', 'CAG', 'CAT', 'CCA', 'CCC', 'CCG', 'CCT', 'CGA', 'CGC', 'CGG', 'CGT', 'CTA', 'CTC', 'CTG', 'CTT', 'GAA', 'GAC', 'GAG', 'GAT', 'GCA', 'GCC', 'GCG', 'GCT', 'GGA', 'GGC', 'GGG', 'GGT', 'GTA', 'GTC', 'GTG', 'GTT', 'TAC', 'TAT', 'TCA', 'TCC', 'TCG', 'TCT', 'TGC', 'TGG', 'TGT', 'TTA', 'TTC', 'TTG', 'TTT']"
   ]
  },
  {
   "cell_type": "code",
   "execution_count": 10,
   "id": "fafe3036-7317-4a84-9490-0da70dbef277",
   "metadata": {},
   "outputs": [],
   "source": [
    "classes = ['av_sw', 'sw_hu', 'hu_av', 'av_hu', 'hu_sw', 'sw_av']"
   ]
  },
  {
   "cell_type": "code",
   "execution_count": 11,
   "id": "8a0baa1a-3d00-484a-bc3a-3e3d003d61e5",
   "metadata": {},
   "outputs": [],
   "source": [
    "res = np.zeros((len(codons), len(classes)))\n",
    "res_df = pd.DataFrame(res, index=codons, columns=classes)"
   ]
  },
  {
   "cell_type": "code",
   "execution_count": 12,
   "id": "b9c83778-95bd-4c31-a489-e55aeaa898f5",
   "metadata": {
    "tags": []
   },
   "outputs": [
    {
     "data": {
      "text/html": [
       "<div>\n",
       "<style scoped>\n",
       "    .dataframe tbody tr th:only-of-type {\n",
       "        vertical-align: middle;\n",
       "    }\n",
       "\n",
       "    .dataframe tbody tr th {\n",
       "        vertical-align: top;\n",
       "    }\n",
       "\n",
       "    .dataframe thead th {\n",
       "        text-align: right;\n",
       "    }\n",
       "</style>\n",
       "<table border=\"1\" class=\"dataframe\">\n",
       "  <thead>\n",
       "    <tr style=\"text-align: right;\">\n",
       "      <th></th>\n",
       "      <th>Unnamed: 0</th>\n",
       "      <th>index</th>\n",
       "      <th>classes</th>\n",
       "      <th>codon</th>\n",
       "      <th>oddsratio</th>\n",
       "      <th>pvalue</th>\n",
       "      <th>key</th>\n",
       "      <th>column</th>\n",
       "    </tr>\n",
       "  </thead>\n",
       "  <tbody>\n",
       "    <tr>\n",
       "      <th>0</th>\n",
       "      <td>0</td>\n",
       "      <td>4</td>\n",
       "      <td>av_sw av</td>\n",
       "      <td>ACA</td>\n",
       "      <td>0.973982</td>\n",
       "      <td>0.012509</td>\n",
       "      <td>Significant Up *</td>\n",
       "      <td>ACA*</td>\n",
       "    </tr>\n",
       "  </tbody>\n",
       "</table>\n",
       "</div>"
      ],
      "text/plain": [
       "   Unnamed: 0  index   classes codon  oddsratio    pvalue               key  \\\n",
       "0           0      4  av_sw av   ACA   0.973982  0.012509  Significant Up *   \n",
       "\n",
       "  column  \n",
       "0   ACA*  "
      ]
     },
     "execution_count": 12,
     "metadata": {},
     "output_type": "execute_result"
    }
   ],
   "source": [
    "fisher_av_sw.head(1)"
   ]
  },
  {
   "cell_type": "code",
   "execution_count": 13,
   "id": "d79d8a48-bb9c-49ba-b39a-a623cc0a1b0f",
   "metadata": {},
   "outputs": [],
   "source": [
    "def globally_scores(fisher, kl, student, lime, res_df, classe):\n",
    "    for i in range(len(fisher)):\n",
    "        res_df[classe][fisher['codon'][i]] += 1\n",
    "    for i in range(len(kl)):\n",
    "        res_df[classe][kl['codons'][i]] += 1\n",
    "    for i in range(len(student)):\n",
    "        res_df[classe][student['codon'][i]] += 1\n",
    "    for i in range(len(lime)):\n",
    "        res_df[classe][lime['Codon'][i]] += 1\n",
    "    return res_df"
   ]
  },
  {
   "cell_type": "code",
   "execution_count": 14,
   "id": "2486cfaa-f010-4c3d-8e6d-3ed946722a2b",
   "metadata": {},
   "outputs": [],
   "source": [
    "classes = ['av_sw', 'sw_hu', 'hu_av', 'av_hu', 'hu_sw', 'sw_av']"
   ]
  },
  {
   "cell_type": "code",
   "execution_count": 15,
   "id": "752f9bb3-4a2d-4a0e-8aaf-4eb43d3f506a",
   "metadata": {
    "tags": []
   },
   "outputs": [
    {
     "data": {
      "text/html": [
       "<div>\n",
       "<style scoped>\n",
       "    .dataframe tbody tr th:only-of-type {\n",
       "        vertical-align: middle;\n",
       "    }\n",
       "\n",
       "    .dataframe tbody tr th {\n",
       "        vertical-align: top;\n",
       "    }\n",
       "\n",
       "    .dataframe thead th {\n",
       "        text-align: right;\n",
       "    }\n",
       "</style>\n",
       "<table border=\"1\" class=\"dataframe\">\n",
       "  <thead>\n",
       "    <tr style=\"text-align: right;\">\n",
       "      <th></th>\n",
       "      <th>av_sw</th>\n",
       "      <th>sw_hu</th>\n",
       "      <th>hu_av</th>\n",
       "      <th>av_hu</th>\n",
       "      <th>hu_sw</th>\n",
       "      <th>sw_av</th>\n",
       "    </tr>\n",
       "  </thead>\n",
       "  <tbody>\n",
       "    <tr>\n",
       "      <th>AAA</th>\n",
       "      <td>0.0</td>\n",
       "      <td>0.0</td>\n",
       "      <td>0.0</td>\n",
       "      <td>0.0</td>\n",
       "      <td>0.0</td>\n",
       "      <td>0.0</td>\n",
       "    </tr>\n",
       "    <tr>\n",
       "      <th>AAC</th>\n",
       "      <td>0.0</td>\n",
       "      <td>0.0</td>\n",
       "      <td>0.0</td>\n",
       "      <td>0.0</td>\n",
       "      <td>0.0</td>\n",
       "      <td>0.0</td>\n",
       "    </tr>\n",
       "    <tr>\n",
       "      <th>AAG</th>\n",
       "      <td>0.0</td>\n",
       "      <td>0.0</td>\n",
       "      <td>0.0</td>\n",
       "      <td>0.0</td>\n",
       "      <td>0.0</td>\n",
       "      <td>0.0</td>\n",
       "    </tr>\n",
       "    <tr>\n",
       "      <th>AAT</th>\n",
       "      <td>0.0</td>\n",
       "      <td>0.0</td>\n",
       "      <td>0.0</td>\n",
       "      <td>0.0</td>\n",
       "      <td>0.0</td>\n",
       "      <td>0.0</td>\n",
       "    </tr>\n",
       "    <tr>\n",
       "      <th>ACA</th>\n",
       "      <td>0.0</td>\n",
       "      <td>0.0</td>\n",
       "      <td>0.0</td>\n",
       "      <td>0.0</td>\n",
       "      <td>0.0</td>\n",
       "      <td>0.0</td>\n",
       "    </tr>\n",
       "    <tr>\n",
       "      <th>...</th>\n",
       "      <td>...</td>\n",
       "      <td>...</td>\n",
       "      <td>...</td>\n",
       "      <td>...</td>\n",
       "      <td>...</td>\n",
       "      <td>...</td>\n",
       "    </tr>\n",
       "    <tr>\n",
       "      <th>TGT</th>\n",
       "      <td>0.0</td>\n",
       "      <td>0.0</td>\n",
       "      <td>0.0</td>\n",
       "      <td>0.0</td>\n",
       "      <td>0.0</td>\n",
       "      <td>0.0</td>\n",
       "    </tr>\n",
       "    <tr>\n",
       "      <th>TTA</th>\n",
       "      <td>0.0</td>\n",
       "      <td>0.0</td>\n",
       "      <td>0.0</td>\n",
       "      <td>0.0</td>\n",
       "      <td>0.0</td>\n",
       "      <td>0.0</td>\n",
       "    </tr>\n",
       "    <tr>\n",
       "      <th>TTC</th>\n",
       "      <td>0.0</td>\n",
       "      <td>0.0</td>\n",
       "      <td>0.0</td>\n",
       "      <td>0.0</td>\n",
       "      <td>0.0</td>\n",
       "      <td>0.0</td>\n",
       "    </tr>\n",
       "    <tr>\n",
       "      <th>TTG</th>\n",
       "      <td>0.0</td>\n",
       "      <td>0.0</td>\n",
       "      <td>0.0</td>\n",
       "      <td>0.0</td>\n",
       "      <td>0.0</td>\n",
       "      <td>0.0</td>\n",
       "    </tr>\n",
       "    <tr>\n",
       "      <th>TTT</th>\n",
       "      <td>0.0</td>\n",
       "      <td>0.0</td>\n",
       "      <td>0.0</td>\n",
       "      <td>0.0</td>\n",
       "      <td>0.0</td>\n",
       "      <td>0.0</td>\n",
       "    </tr>\n",
       "  </tbody>\n",
       "</table>\n",
       "<p>61 rows × 6 columns</p>\n",
       "</div>"
      ],
      "text/plain": [
       "     av_sw  sw_hu  hu_av  av_hu  hu_sw  sw_av\n",
       "AAA    0.0    0.0    0.0    0.0    0.0    0.0\n",
       "AAC    0.0    0.0    0.0    0.0    0.0    0.0\n",
       "AAG    0.0    0.0    0.0    0.0    0.0    0.0\n",
       "AAT    0.0    0.0    0.0    0.0    0.0    0.0\n",
       "ACA    0.0    0.0    0.0    0.0    0.0    0.0\n",
       "..     ...    ...    ...    ...    ...    ...\n",
       "TGT    0.0    0.0    0.0    0.0    0.0    0.0\n",
       "TTA    0.0    0.0    0.0    0.0    0.0    0.0\n",
       "TTC    0.0    0.0    0.0    0.0    0.0    0.0\n",
       "TTG    0.0    0.0    0.0    0.0    0.0    0.0\n",
       "TTT    0.0    0.0    0.0    0.0    0.0    0.0\n",
       "\n",
       "[61 rows x 6 columns]"
      ]
     },
     "execution_count": 15,
     "metadata": {},
     "output_type": "execute_result"
    }
   ],
   "source": [
    "res_df"
   ]
  },
  {
   "cell_type": "code",
   "execution_count": 16,
   "id": "8f8342d5-9589-4720-8646-a3ac1264efcc",
   "metadata": {},
   "outputs": [],
   "source": [
    "res_df = globally_scores(fisher_av_sw, kl_av_sw, student_av_sw, lime_av_sw, res_df, classes[0])\n",
    "res_df = globally_scores(fisher_sw_hu, kl_sw_hu, student_sw_hu, lime_sw_hu, res_df, classes[1])\n",
    "res_df = globally_scores(fisher_hu_av, kl_hu_av, student_hu_av, lime_hu_av, res_df, classes[2])\n",
    "res_df = globally_scores(fisher_av_hu, kl_av_hu, student_av_hu, lime_av_hu, res_df, classes[3])\n",
    "res_df = globally_scores(fisher_hu_sw, kl_hu_sw, student_hu_sw, lime_hu_sw, res_df, classes[4])\n",
    "res_df = globally_scores(fisher_sw_av, kl_sw_av, student_sw_av, lime_sw_av, res_df, classes[5])"
   ]
  },
  {
   "cell_type": "code",
   "execution_count": 17,
   "id": "fcc8b98b-e3b0-4cde-a140-e8596795b015",
   "metadata": {},
   "outputs": [
    {
     "data": {
      "text/plain": [
       "61"
      ]
     },
     "execution_count": 17,
     "metadata": {},
     "output_type": "execute_result"
    }
   ],
   "source": [
    "len(res_df)"
   ]
  },
  {
   "cell_type": "code",
   "execution_count": 18,
   "id": "8ac80244-53a4-420e-97b0-dead8de209f0",
   "metadata": {
    "tags": []
   },
   "outputs": [
    {
     "data": {
      "text/html": [
       "<div>\n",
       "<style scoped>\n",
       "    .dataframe tbody tr th:only-of-type {\n",
       "        vertical-align: middle;\n",
       "    }\n",
       "\n",
       "    .dataframe tbody tr th {\n",
       "        vertical-align: top;\n",
       "    }\n",
       "\n",
       "    .dataframe thead th {\n",
       "        text-align: right;\n",
       "    }\n",
       "</style>\n",
       "<table border=\"1\" class=\"dataframe\">\n",
       "  <thead>\n",
       "    <tr style=\"text-align: right;\">\n",
       "      <th></th>\n",
       "      <th>av_sw</th>\n",
       "      <th>sw_hu</th>\n",
       "      <th>hu_av</th>\n",
       "      <th>av_hu</th>\n",
       "      <th>hu_sw</th>\n",
       "      <th>sw_av</th>\n",
       "    </tr>\n",
       "  </thead>\n",
       "  <tbody>\n",
       "    <tr>\n",
       "      <th>AAA</th>\n",
       "      <td>1.0</td>\n",
       "      <td>1.0</td>\n",
       "      <td>2.0</td>\n",
       "      <td>1.0</td>\n",
       "      <td>2.0</td>\n",
       "      <td>0.0</td>\n",
       "    </tr>\n",
       "    <tr>\n",
       "      <th>AAC</th>\n",
       "      <td>1.0</td>\n",
       "      <td>1.0</td>\n",
       "      <td>1.0</td>\n",
       "      <td>1.0</td>\n",
       "      <td>1.0</td>\n",
       "      <td>0.0</td>\n",
       "    </tr>\n",
       "    <tr>\n",
       "      <th>AAG</th>\n",
       "      <td>1.0</td>\n",
       "      <td>2.0</td>\n",
       "      <td>2.0</td>\n",
       "      <td>1.0</td>\n",
       "      <td>1.0</td>\n",
       "      <td>2.0</td>\n",
       "    </tr>\n",
       "    <tr>\n",
       "      <th>AAT</th>\n",
       "      <td>1.0</td>\n",
       "      <td>1.0</td>\n",
       "      <td>1.0</td>\n",
       "      <td>1.0</td>\n",
       "      <td>1.0</td>\n",
       "      <td>0.0</td>\n",
       "    </tr>\n",
       "    <tr>\n",
       "      <th>ACA</th>\n",
       "      <td>2.0</td>\n",
       "      <td>2.0</td>\n",
       "      <td>1.0</td>\n",
       "      <td>1.0</td>\n",
       "      <td>1.0</td>\n",
       "      <td>1.0</td>\n",
       "    </tr>\n",
       "    <tr>\n",
       "      <th>...</th>\n",
       "      <td>...</td>\n",
       "      <td>...</td>\n",
       "      <td>...</td>\n",
       "      <td>...</td>\n",
       "      <td>...</td>\n",
       "      <td>...</td>\n",
       "    </tr>\n",
       "    <tr>\n",
       "      <th>TGT</th>\n",
       "      <td>1.0</td>\n",
       "      <td>1.0</td>\n",
       "      <td>2.0</td>\n",
       "      <td>2.0</td>\n",
       "      <td>1.0</td>\n",
       "      <td>1.0</td>\n",
       "    </tr>\n",
       "    <tr>\n",
       "      <th>TTA</th>\n",
       "      <td>1.0</td>\n",
       "      <td>1.0</td>\n",
       "      <td>1.0</td>\n",
       "      <td>3.0</td>\n",
       "      <td>1.0</td>\n",
       "      <td>1.0</td>\n",
       "    </tr>\n",
       "    <tr>\n",
       "      <th>TTC</th>\n",
       "      <td>2.0</td>\n",
       "      <td>1.0</td>\n",
       "      <td>2.0</td>\n",
       "      <td>1.0</td>\n",
       "      <td>1.0</td>\n",
       "      <td>1.0</td>\n",
       "    </tr>\n",
       "    <tr>\n",
       "      <th>TTG</th>\n",
       "      <td>1.0</td>\n",
       "      <td>0.0</td>\n",
       "      <td>2.0</td>\n",
       "      <td>3.0</td>\n",
       "      <td>1.0</td>\n",
       "      <td>0.0</td>\n",
       "    </tr>\n",
       "    <tr>\n",
       "      <th>TTT</th>\n",
       "      <td>2.0</td>\n",
       "      <td>1.0</td>\n",
       "      <td>1.0</td>\n",
       "      <td>1.0</td>\n",
       "      <td>1.0</td>\n",
       "      <td>1.0</td>\n",
       "    </tr>\n",
       "  </tbody>\n",
       "</table>\n",
       "<p>61 rows × 6 columns</p>\n",
       "</div>"
      ],
      "text/plain": [
       "     av_sw  sw_hu  hu_av  av_hu  hu_sw  sw_av\n",
       "AAA    1.0    1.0    2.0    1.0    2.0    0.0\n",
       "AAC    1.0    1.0    1.0    1.0    1.0    0.0\n",
       "AAG    1.0    2.0    2.0    1.0    1.0    2.0\n",
       "AAT    1.0    1.0    1.0    1.0    1.0    0.0\n",
       "ACA    2.0    2.0    1.0    1.0    1.0    1.0\n",
       "..     ...    ...    ...    ...    ...    ...\n",
       "TGT    1.0    1.0    2.0    2.0    1.0    1.0\n",
       "TTA    1.0    1.0    1.0    3.0    1.0    1.0\n",
       "TTC    2.0    1.0    2.0    1.0    1.0    1.0\n",
       "TTG    1.0    0.0    2.0    3.0    1.0    0.0\n",
       "TTT    2.0    1.0    1.0    1.0    1.0    1.0\n",
       "\n",
       "[61 rows x 6 columns]"
      ]
     },
     "execution_count": 18,
     "metadata": {},
     "output_type": "execute_result"
    }
   ],
   "source": [
    "res_df"
   ]
  },
  {
   "cell_type": "markdown",
   "id": "e2bf1fc9-5448-4acc-885c-40f989b88b8d",
   "metadata": {
    "tags": []
   },
   "source": [
    "## foldChange"
   ]
  },
  {
   "cell_type": "code",
   "execution_count": 19,
   "id": "3fd1d187-86f1-414b-8517-1587fd63f2b8",
   "metadata": {},
   "outputs": [],
   "source": [
    "foldChange_av_sw = pd.read_excel(\"Tests/Globally/foldChange/av_sw.xlsx\")\n",
    "foldChange_sw_hu = pd.read_excel(\"Tests/Globally/foldChange/sw_hu.xlsx\")\n",
    "foldChange_hu_av = pd.read_excel(\"Tests/Globally/foldChange/hu_av.xlsx\")\n",
    "foldChange_av_hu = pd.read_excel(\"Tests/Globally/foldChange/av_hu.xlsx\")\n",
    "foldChange_hu_sw = pd.read_excel(\"Tests/Globally/foldChange/hu_sw.xlsx\")\n",
    "foldChange_sw_av = pd.read_excel(\"Tests/Globally/foldChange/sw_av.xlsx\")"
   ]
  },
  {
   "cell_type": "code",
   "execution_count": 20,
   "id": "f665bcbd-d788-4e92-8d9f-cf63b4f5b777",
   "metadata": {},
   "outputs": [],
   "source": [
    "import math"
   ]
  },
  {
   "cell_type": "code",
   "execution_count": 21,
   "id": "225a9314-967a-419f-b84b-5c573b388ae4",
   "metadata": {},
   "outputs": [],
   "source": [
    "def sign_calculation(data, foldChange, classe):\n",
    "    \"\"\"\n",
    "    fold_change_df should be a dataframe contain cols : (codon, fold_change)\n",
    "        (FC<1) -> +\n",
    "        (FC=inf) -> +\n",
    "        (FC=>1) -> -\n",
    "    \"\"\"\n",
    "    for i in range(len(foldChange)):\n",
    "        codon = foldChange['codon'][i]\n",
    "        fold = foldChange['foldChange'][i]\n",
    "        if math.isinf(fold):\n",
    "            signe = 1\n",
    "        elif fold < 1:\n",
    "            signe = -1\n",
    "        elif fold >= 1:\n",
    "            signe = 1\n",
    "        \n",
    "        data.loc[codon][classe] *= signe\n",
    "    return data"
   ]
  },
  {
   "cell_type": "code",
   "execution_count": 22,
   "id": "0aa7d963-9ea5-4ecf-858f-002409ab0b0e",
   "metadata": {},
   "outputs": [],
   "source": [
    "res_df = sign_calculation(res_df, foldChange_av_sw, \"av_sw\")\n",
    "res_df = sign_calculation(res_df, foldChange_sw_hu, \"sw_hu\")\n",
    "res_df = sign_calculation(res_df, foldChange_hu_av, \"hu_av\")\n",
    "res_df = sign_calculation(res_df, foldChange_av_hu, \"av_hu\")\n",
    "res_df = sign_calculation(res_df, foldChange_hu_sw, \"hu_sw\")\n",
    "res_df = sign_calculation(res_df, foldChange_sw_av, \"sw_av\")"
   ]
  },
  {
   "cell_type": "code",
   "execution_count": 23,
   "id": "c9b37400-917a-4fc9-bd94-7b8a1385e160",
   "metadata": {},
   "outputs": [
    {
     "data": {
      "text/html": [
       "<div>\n",
       "<style scoped>\n",
       "    .dataframe tbody tr th:only-of-type {\n",
       "        vertical-align: middle;\n",
       "    }\n",
       "\n",
       "    .dataframe tbody tr th {\n",
       "        vertical-align: top;\n",
       "    }\n",
       "\n",
       "    .dataframe thead th {\n",
       "        text-align: right;\n",
       "    }\n",
       "</style>\n",
       "<table border=\"1\" class=\"dataframe\">\n",
       "  <thead>\n",
       "    <tr style=\"text-align: right;\">\n",
       "      <th></th>\n",
       "      <th>av_sw</th>\n",
       "      <th>sw_hu</th>\n",
       "      <th>hu_av</th>\n",
       "      <th>av_hu</th>\n",
       "      <th>hu_sw</th>\n",
       "      <th>sw_av</th>\n",
       "    </tr>\n",
       "  </thead>\n",
       "  <tbody>\n",
       "    <tr>\n",
       "      <th>AAA</th>\n",
       "      <td>1.0</td>\n",
       "      <td>1.0</td>\n",
       "      <td>-2.0</td>\n",
       "      <td>1.0</td>\n",
       "      <td>-2.0</td>\n",
       "      <td>-0.0</td>\n",
       "    </tr>\n",
       "    <tr>\n",
       "      <th>AAC</th>\n",
       "      <td>-1.0</td>\n",
       "      <td>1.0</td>\n",
       "      <td>1.0</td>\n",
       "      <td>-1.0</td>\n",
       "      <td>-1.0</td>\n",
       "      <td>-0.0</td>\n",
       "    </tr>\n",
       "    <tr>\n",
       "      <th>AAG</th>\n",
       "      <td>-1.0</td>\n",
       "      <td>2.0</td>\n",
       "      <td>2.0</td>\n",
       "      <td>1.0</td>\n",
       "      <td>1.0</td>\n",
       "      <td>2.0</td>\n",
       "    </tr>\n",
       "    <tr>\n",
       "      <th>AAT</th>\n",
       "      <td>1.0</td>\n",
       "      <td>1.0</td>\n",
       "      <td>-1.0</td>\n",
       "      <td>-1.0</td>\n",
       "      <td>-1.0</td>\n",
       "      <td>-0.0</td>\n",
       "    </tr>\n",
       "    <tr>\n",
       "      <th>ACA</th>\n",
       "      <td>-2.0</td>\n",
       "      <td>2.0</td>\n",
       "      <td>-1.0</td>\n",
       "      <td>1.0</td>\n",
       "      <td>-1.0</td>\n",
       "      <td>1.0</td>\n",
       "    </tr>\n",
       "    <tr>\n",
       "      <th>...</th>\n",
       "      <td>...</td>\n",
       "      <td>...</td>\n",
       "      <td>...</td>\n",
       "      <td>...</td>\n",
       "      <td>...</td>\n",
       "      <td>...</td>\n",
       "    </tr>\n",
       "    <tr>\n",
       "      <th>TGT</th>\n",
       "      <td>1.0</td>\n",
       "      <td>1.0</td>\n",
       "      <td>-2.0</td>\n",
       "      <td>2.0</td>\n",
       "      <td>-1.0</td>\n",
       "      <td>-1.0</td>\n",
       "    </tr>\n",
       "    <tr>\n",
       "      <th>TTA</th>\n",
       "      <td>1.0</td>\n",
       "      <td>1.0</td>\n",
       "      <td>-1.0</td>\n",
       "      <td>3.0</td>\n",
       "      <td>-1.0</td>\n",
       "      <td>-1.0</td>\n",
       "    </tr>\n",
       "    <tr>\n",
       "      <th>TTC</th>\n",
       "      <td>-2.0</td>\n",
       "      <td>1.0</td>\n",
       "      <td>2.0</td>\n",
       "      <td>-1.0</td>\n",
       "      <td>-1.0</td>\n",
       "      <td>1.0</td>\n",
       "    </tr>\n",
       "    <tr>\n",
       "      <th>TTG</th>\n",
       "      <td>1.0</td>\n",
       "      <td>0.0</td>\n",
       "      <td>-2.0</td>\n",
       "      <td>3.0</td>\n",
       "      <td>-1.0</td>\n",
       "      <td>0.0</td>\n",
       "    </tr>\n",
       "    <tr>\n",
       "      <th>TTT</th>\n",
       "      <td>2.0</td>\n",
       "      <td>-1.0</td>\n",
       "      <td>-1.0</td>\n",
       "      <td>1.0</td>\n",
       "      <td>-1.0</td>\n",
       "      <td>-1.0</td>\n",
       "    </tr>\n",
       "  </tbody>\n",
       "</table>\n",
       "<p>61 rows × 6 columns</p>\n",
       "</div>"
      ],
      "text/plain": [
       "     av_sw  sw_hu  hu_av  av_hu  hu_sw  sw_av\n",
       "AAA    1.0    1.0   -2.0    1.0   -2.0   -0.0\n",
       "AAC   -1.0    1.0    1.0   -1.0   -1.0   -0.0\n",
       "AAG   -1.0    2.0    2.0    1.0    1.0    2.0\n",
       "AAT    1.0    1.0   -1.0   -1.0   -1.0   -0.0\n",
       "ACA   -2.0    2.0   -1.0    1.0   -1.0    1.0\n",
       "..     ...    ...    ...    ...    ...    ...\n",
       "TGT    1.0    1.0   -2.0    2.0   -1.0   -1.0\n",
       "TTA    1.0    1.0   -1.0    3.0   -1.0   -1.0\n",
       "TTC   -2.0    1.0    2.0   -1.0   -1.0    1.0\n",
       "TTG    1.0    0.0   -2.0    3.0   -1.0    0.0\n",
       "TTT    2.0   -1.0   -1.0    1.0   -1.0   -1.0\n",
       "\n",
       "[61 rows x 6 columns]"
      ]
     },
     "execution_count": 23,
     "metadata": {},
     "output_type": "execute_result"
    }
   ],
   "source": [
    "res_df"
   ]
  },
  {
   "cell_type": "code",
   "execution_count": 405,
   "id": "f72d03cf-1998-4350-b591-8fbb47f2e15f",
   "metadata": {},
   "outputs": [],
   "source": [
    "res_df.to_excel('scores/globally/globally_scores.xlsx')"
   ]
  },
  {
   "cell_type": "code",
   "execution_count": 24,
   "id": "e87e1c9a-77d9-4ca2-af06-3b47063a916f",
   "metadata": {},
   "outputs": [],
   "source": [
    "res_df.to_csv('scores/globally/globally_scores.csv')"
   ]
  },
  {
   "cell_type": "markdown",
   "id": "f47d364d-4123-4367-86f3-c4dc3659dd75",
   "metadata": {
    "jp-MarkdownHeadingCollapsed": true,
    "tags": []
   },
   "source": [
    "# Gene"
   ]
  },
  {
   "cell_type": "code",
   "execution_count": 25,
   "id": "27282c55-d2f2-4847-b558-70e2c6b79771",
   "metadata": {},
   "outputs": [],
   "source": [
    "def genes_scores(fisher, kl, student, lime, score_df, classe):\n",
    "    for i in range(len(fisher)):\n",
    "        score_df[classe][fisher['codon'][i]] += 1\n",
    "    for i in range(len(kl)):\n",
    "        score_df[classe][kl['codons'][i]] += 1\n",
    "    for i in range(len(student)):\n",
    "        score_df[classe][student['codon'][i]] += 1\n",
    "    for i in range(len(lime)):\n",
    "        score_df[classe][lime['Codon'][i]] += 1\n",
    "    return score_df"
   ]
  },
  {
   "cell_type": "code",
   "execution_count": 26,
   "id": "6df468c3-43df-4399-9e5d-2e8b13c47d2b",
   "metadata": {},
   "outputs": [],
   "source": [
    "classes = [\"swine_avian\", \"avian_swine\", \"human_avian\", \"avian_human\", \"human_swine\", \"swine_human\"]\n",
    "codons = ['AAA', 'AAC', 'AAG', 'AAT', 'ACA', 'ACC', 'ACG', 'ACT', 'AGA', 'AGC', 'AGG', 'AGT', 'ATA', 'ATC', 'ATG', 'ATT', 'CAA', 'CAC', 'CAG', 'CAT', 'CCA', 'CCC', 'CCG', 'CCT', 'CGA', 'CGC', 'CGG', 'CGT', 'CTA', 'CTC', 'CTG', 'CTT', 'GAA', 'GAC', 'GAG', 'GAT', 'GCA', 'GCC', 'GCG', 'GCT', 'GGA', 'GGC', 'GGG', 'GGT', 'GTA', 'GTC', 'GTG', 'GTT', 'TAC', 'TAT', 'TCA', 'TCC', 'TCG', 'TCT', 'TGC', 'TGG', 'TGT', 'TTA', 'TTC', 'TTG', 'TTT']"
   ]
  },
  {
   "cell_type": "code",
   "execution_count": 27,
   "id": "b243022b-3f3d-44a1-bc7e-af7f7e511d3e",
   "metadata": {},
   "outputs": [],
   "source": [
    "genes = ['NS', 'NP', 'MP', 'PB2', 'PB1', 'HA', 'PA', 'NA']"
   ]
  },
  {
   "cell_type": "code",
   "execution_count": 28,
   "id": "fcf7f424-c787-41db-a8df-5d9a255794f0",
   "metadata": {},
   "outputs": [],
   "source": [
    "res = np.zeros((len(codons), len(classes)))\n",
    "scores = pd.DataFrame(res, index=codons, columns=classes)"
   ]
  },
  {
   "cell_type": "code",
   "execution_count": 29,
   "id": "aea88863-ecba-441e-8665-41254ab89e6f",
   "metadata": {},
   "outputs": [],
   "source": [
    "for g in genes:\n",
    "    res = np.zeros((len(codons), len(classes)))\n",
    "    scores = pd.DataFrame(res, index=codons, columns=classes)\n",
    "    for i in range(len(classes)):\n",
    "        fisher = pd.read_excel(\"Tests/Genes/fisher/\" + classes[i] + \"/\"+ g + \".xlsx\")\n",
    "        kl = pd.read_excel(\"Tests/Genes/kl/\" + classes[i] + \"/\"+ g + \".xlsx\")\n",
    "        student = pd.read_excel(\"Tests/Genes/student/\" + classes[i] + \"/\"+ g + \".xlsx\")\n",
    "        lime = pd.read_excel(\"Tests/Genes/lime/\" + classes[i] + \"_\"+ g + \".xlsx\") # Added\n",
    "\n",
    "        scores = genes_scores(fisher, kl, student, lime, scores, classes[i])\n",
    "    scores.to_excel(\"scores/\" + g + \".xlsx\")\n"
   ]
  },
  {
   "cell_type": "markdown",
   "id": "341f4e0c-496d-4cf6-80d3-d83d8da5cbd9",
   "metadata": {
    "tags": []
   },
   "source": [
    "## foldChange"
   ]
  },
  {
   "cell_type": "code",
   "execution_count": 30,
   "id": "7b41e59d-c0ce-4791-8511-b51646580bed",
   "metadata": {},
   "outputs": [],
   "source": [
    "import math"
   ]
  },
  {
   "cell_type": "code",
   "execution_count": 31,
   "id": "26f5b781-91e5-44d6-922f-574e9f98ac89",
   "metadata": {},
   "outputs": [],
   "source": [
    "# def sign(fold_change_df, scores):\n",
    "#     \"\"\"\n",
    "#     fold_change_df should be a dataframe with 2 col : (codon, fold_change)\n",
    "#         (FC<1) -> +\n",
    "#         (FC=inf) -> +\n",
    "#         (FC=>1) -> -\n",
    "#     \"\"\"\n",
    "#     for i in range(len(fold_change_df)):\n",
    "#         signe = 1\n",
    "#         if math.isinf(fold_change_df['fold_change'][i]):\n",
    "#             signe = +1\n",
    "#         elif fold_change_df['fold_change'][i] < 1:\n",
    "#             signe = -1\n",
    "#         elif fold_change_df['fold_change'][i] >= 1:\n",
    "#             signe = +1\n",
    "#         scores.loc[fold_change_df['codon'][i]] *= signe\n",
    "#     return scores\n"
   ]
  },
  {
   "cell_type": "code",
   "execution_count": 32,
   "id": "e28a7b66-2580-4e7f-92c8-edf52adb0962",
   "metadata": {},
   "outputs": [],
   "source": [
    "for g in genes:\n",
    "    res = np.zeros((len(codons), len(classes)))\n",
    "    foldchange = pd.DataFrame([], columns=[\"codon\", \"classes\", \"foldChange\"])\n",
    "    for i in range(len(classes)):\n",
    "        fc = pd.read_excel(\"Tests/Genes/foldChange/\" + classes[i] + \"/\"+ g + \".xlsx\")\n",
    "        foldchange = foldchange.append(fc[[\"classes\", \"codon\", \"foldChange\"]] , ignore_index=True)\n",
    "    foldchange.to_excel(\"scores/gene/foldchange_\" + g + \".xlsx\")"
   ]
  },
  {
   "cell_type": "code",
   "execution_count": 33,
   "id": "5eae87cf-b875-4674-b731-9e06ad334ca7",
   "metadata": {},
   "outputs": [],
   "source": [
    "for g in genes:\n",
    "    # Calculate scores\n",
    "    res = np.zeros((len(codons), len(classes)))\n",
    "    scores = pd.DataFrame(res, index=codons, columns=classes)\n",
    "    for i in range(len(classes)):\n",
    "        fisher = pd.read_excel(\"Tests/Genes/fisher/\" + classes[i] + \"/\"+ g + \".xlsx\")\n",
    "        kl = pd.read_excel(\"Tests/Genes/kl/\" + classes[i] + \"/\"+ g + \".xlsx\")\n",
    "        student = pd.read_excel(\"Tests/Genes/student/\" + classes[i] + \"/\"+ g + \".xlsx\")\n",
    "        lime = pd.read_excel(\"Tests/Genes/lime/\" + classes[i] + \"_\"+ g + \".xlsx\") # Added\n",
    "\n",
    "        scores = genes_scores(fisher, kl, student, lime, scores, classes[i])\n",
    "    \n",
    "    # Load foldChange for each gene, and affect signes to scores\n",
    "    foldChange = pd.read_excel(\"scores/gene/foldchange_\" + g + \".xlsx\")\n",
    "    for i in range(len(foldChange)):\n",
    "        signe = 1\n",
    "        if math.isinf(foldChange['foldChange'][i]):\n",
    "            signe = +1\n",
    "        elif foldChange['foldChange'][i] < 1:\n",
    "            signe = -1\n",
    "        elif foldChange['foldChange'][i] >= 1:\n",
    "            signe = +1\n",
    "        c = foldChange['classes'][i].split()[0]\n",
    "        scores[c][foldChange['codon'][i]] *= signe\n",
    "    \n",
    "    # Save scores\n",
    "    scores.to_csv(\"scores/gene/\" + g + \".csv\")\n"
   ]
  },
  {
   "cell_type": "markdown",
   "id": "95af7840-8872-4945-87ca-360b21904d8e",
   "metadata": {
    "tags": []
   },
   "source": [
    "# Position"
   ]
  },
  {
   "cell_type": "code",
   "execution_count": 72,
   "id": "96d3e78f-3a61-45df-9ec7-b22ac05d1c57",
   "metadata": {},
   "outputs": [],
   "source": [
    "values = [\"[0, 30]\", \"[31, 61]\", \"[62, 92]\", \"[93, 123]\", \"[124, 154]\", \"[155, 185]\", \"[186, 216]\", \"[217, 247]\", \"[248, 278]\", \"[279, 309]\", \"[310, 340]\", \"[341, 371]\", \"[372, 402]\", \"[403, 433]\", \"[434, 464]\", \"[465, 495]\", \"[496, 526]\", \"[527, 557]\", \"[558, 588]\", \"[589, 619]\", \"[620, 650]\", \"[651, 681]\", \"[682, 712]\", \"[713, 743]\", \"[744, 774]\", \"[775, 795]\", \"470\", \"[360, 362]\", \"[480, 499]\", \"[270, 296]\", \"[750, 780]\", \"[775, 805]\", \"[750, 758]\", \"[330, 336]\", \"[690, 717]\", \"[330, 339]\", \"[570, 592]\", \"[750, 760]\", \"[540, 567]\"]\n",
    "replaced_values = [\"[0, 30]\", \"[30, 60]\", \"[60, 90]\", \"[90, 120]\", \"[120, 150]\", \"[150, 180]\", \"[180, 210]\", \"[210, 240]\", \"[240, 270]\", \"[270, 300]\", \"[300, 330]\", \"[330, 360]\", \"[360, 390]\", \"[390, 420]\", \"[420, 450]\", \"[450, 480]\", \"[480, 510]\", \"[510, 540]\", \"[540, 570]\", \"[570, 600]\", \"[600, 630]\", \"[630, 660]\", \"[660, 690]\", \"[690, 720]\", \"[720, 750]\", \"[750, 770]\", \"480\", \"[360, 390]\", \"[480, 510]\", \"[270, 300]\", \"[750, 770]\", \"[750, 770]\", \"[750, 770]\", \"[330, 360]\", \"[690, 720]\", \"[330, 360]\", \"[570, 600]\", \"[750, 770]\", \"[540, 570]\"]"
   ]
  },
  {
   "cell_type": "code",
   "execution_count": 73,
   "id": "d585b7d1-5d6f-44fb-8f00-1e8be0b9df60",
   "metadata": {},
   "outputs": [],
   "source": [
    "def uniform_positions(positions):\n",
    "    for i in range(len(values)):\n",
    "        positions = positions.replace(values[i], replaced_values[i])\n",
    "    return positions"
   ]
  },
  {
   "cell_type": "code",
   "execution_count": 74,
   "id": "90d4ffbc-184b-4321-877d-f61b68288ae3",
   "metadata": {},
   "outputs": [],
   "source": [
    "def scores_calculation(data, classe, gene, res_df=None):\n",
    "    \"\"\"\n",
    "    \n",
    "    \"\"\"\n",
    "    data = data[data['classes']==classe]\n",
    "    data = data[data['genes']==gene]\n",
    "    data = data.reset_index()\n",
    "    \n",
    "    # Fomrating position text\n",
    "    for i in range(len(data)):\n",
    "        pos = data['positions'][i].replace('*', '')\n",
    "        data['positions'][i] = pos.replace(\"'\", \"\")\n",
    "    \n",
    "    # unique_positions = np.unique([str(item) for i in range(len(data)) for item in json.loads(data['positions'][i])])\n",
    "    unique_positions = [\"[0, 30]\", \"[30, 60]\", \"[60, 90]\", \"[90, 120]\", \"[120, 150]\", \"[150, 180]\", \"[180, 210]\", \"[210, 240]\",\n",
    "                        \"[240, 270]\", \"[270, 300]\", \"[300, 330]\", \"[330, 360]\", \"[360, 390]\", \"[390, 420]\", \"[420, 450]\",\n",
    "                        \"[450, 480]\", \"[480, 510]\", \"[510, 540]\", \"[540, 570]\", \"[570, 600]\", \"[600, 630]\", \"[630, 660]\",\n",
    "                        \"[660, 690]\", \"[690, 720]\", \"[720, 750]\", \"[750, 770]\"] # Hard-coded\n",
    "    \n",
    "    # Create a zeros dataframe\n",
    "    try:\n",
    "        if res_df == None:\n",
    "            unique_codons = data['codon'].unique()\n",
    "            res = np.zeros((len(unique_codons), len(unique_positions)))\n",
    "            res_df = pd.DataFrame(res, index=unique_codons, columns=unique_positions)\n",
    "            print(f\"Result DataFrame initialized\")\n",
    "    except:\n",
    "        print(f\"Result DataFrame exists\")\n",
    "    \n",
    "    # Increment by 1 the score of position/codon\n",
    "    for i in range(len(data)):\n",
    "        positions = str(data['positions'][i])\n",
    "        positions = uniform_positions(positions)\n",
    "        l = [str(item) for item in json.loads(positions)]\n",
    "        for item in l:\n",
    "            # print(f\"item: {item} codon : {data['codon'][i]}\")\n",
    "            res_df[item][data['codon'][i]] += 1\n",
    "    \n",
    "    return res_df"
   ]
  },
  {
   "cell_type": "code",
   "execution_count": 75,
   "id": "313c860b-b396-41a8-baa9-6d69d3bff358",
   "metadata": {},
   "outputs": [],
   "source": [
    "classes = [\"Av_Hu\", \"Av_Sw\", \"Hu_Av\", \"Hu_Sw\", \"Sw_Av\", \"Sw_Hu\"]\n",
    "genes = [\"HA\", \"MP\", \"NA\", \"NP\", \"NS\", \"PA\", \"PB1\", \"PB2\"]"
   ]
  },
  {
   "cell_type": "code",
   "execution_count": 76,
   "id": "57b92ec3-631c-4e2b-b379-1049d92763a1",
   "metadata": {},
   "outputs": [],
   "source": [
    "student_pos = pd.read_excel('Tests/Positions_new/student.xlsx')\n",
    "fisher_pos = pd.read_excel('Tests/Positions_new/fisher.xlsx')\n",
    "kl_pos = pd.read_excel('Tests/Positions_new/kl.xlsx')"
   ]
  },
  {
   "cell_type": "code",
   "execution_count": 77,
   "id": "175b3f7f-b71c-43fd-b47c-551d65d50419",
   "metadata": {},
   "outputs": [],
   "source": [
    "student_pos = student_pos.fillna(\"NA\")\n",
    "fisher_pos = fisher_pos.fillna(\"NA\")\n",
    "kl_pos = kl_pos.fillna(\"NA\")"
   ]
  },
  {
   "cell_type": "code",
   "execution_count": 78,
   "id": "638f5f3a-40df-4a7b-bc0e-72c4e3c684db",
   "metadata": {
    "collapsed": true,
    "jupyter": {
     "outputs_hidden": true
    },
    "tags": []
   },
   "outputs": [
    {
     "name": "stderr",
     "output_type": "stream",
     "text": [
      "/cm/shared/apps/anaconda/3-5.3.1/lib/python3.7/site-packages/ipykernel_launcher.py:12: SettingWithCopyWarning: \n",
      "A value is trying to be set on a copy of a slice from a DataFrame\n",
      "\n",
      "See the caveats in the documentation: https://pandas.pydata.org/pandas-docs/stable/user_guide/indexing.html#returning-a-view-versus-a-copy\n",
      "  if sys.path[0] == '':\n"
     ]
    },
    {
     "name": "stdout",
     "output_type": "stream",
     "text": [
      "Result DataFrame initialized\n",
      "Result DataFrame exists\n",
      "Result DataFrame exists\n",
      "Result DataFrame initialized\n",
      "Result DataFrame exists\n",
      "Result DataFrame exists\n",
      "Result DataFrame initialized\n",
      "Result DataFrame exists\n",
      "Result DataFrame exists\n",
      "Result DataFrame initialized\n",
      "Result DataFrame exists\n",
      "Result DataFrame exists\n",
      "Result DataFrame initialized\n",
      "Result DataFrame exists\n",
      "Result DataFrame exists\n",
      "Result DataFrame initialized\n",
      "Result DataFrame exists\n",
      "Result DataFrame exists\n",
      "Result DataFrame initialized\n",
      "Result DataFrame exists\n",
      "Result DataFrame exists\n",
      "Result DataFrame initialized\n",
      "Result DataFrame exists\n",
      "Result DataFrame exists\n",
      "Result DataFrame initialized\n",
      "Result DataFrame exists\n",
      "Result DataFrame exists\n",
      "Result DataFrame initialized\n",
      "Result DataFrame exists\n",
      "Result DataFrame exists\n",
      "Result DataFrame initialized\n",
      "Result DataFrame exists\n",
      "Result DataFrame exists\n",
      "Result DataFrame initialized\n",
      "Result DataFrame exists\n",
      "Result DataFrame exists\n",
      "Result DataFrame initialized\n",
      "Result DataFrame exists\n",
      "Result DataFrame exists\n",
      "Result DataFrame initialized\n",
      "Result DataFrame exists\n",
      "Result DataFrame exists\n",
      "Result DataFrame initialized\n",
      "Result DataFrame exists\n",
      "Result DataFrame exists\n",
      "Result DataFrame initialized\n",
      "Result DataFrame exists\n",
      "Result DataFrame exists\n",
      "Result DataFrame initialized\n",
      "Result DataFrame exists\n",
      "Result DataFrame exists\n",
      "Result DataFrame initialized\n",
      "Result DataFrame exists\n",
      "Result DataFrame exists\n",
      "Result DataFrame initialized\n",
      "Result DataFrame exists\n",
      "Result DataFrame exists\n",
      "Result DataFrame initialized\n",
      "Result DataFrame exists\n",
      "Result DataFrame exists\n",
      "Result DataFrame initialized\n",
      "Result DataFrame exists\n",
      "Result DataFrame exists\n",
      "Result DataFrame initialized\n",
      "Result DataFrame exists\n",
      "Result DataFrame exists\n",
      "Result DataFrame initialized\n",
      "Result DataFrame exists\n",
      "Result DataFrame exists\n",
      "Result DataFrame initialized\n",
      "Result DataFrame exists\n",
      "Result DataFrame exists\n",
      "Result DataFrame initialized\n",
      "Result DataFrame exists\n",
      "Result DataFrame exists\n",
      "Result DataFrame initialized\n",
      "Result DataFrame exists\n",
      "Result DataFrame exists\n",
      "Result DataFrame initialized\n",
      "Result DataFrame exists\n",
      "Result DataFrame exists\n",
      "Result DataFrame initialized\n",
      "Result DataFrame exists\n",
      "Result DataFrame exists\n",
      "Result DataFrame initialized\n",
      "Result DataFrame exists\n",
      "Result DataFrame exists\n",
      "Result DataFrame initialized\n",
      "Result DataFrame exists\n",
      "Result DataFrame exists\n",
      "Result DataFrame initialized\n",
      "Result DataFrame exists\n",
      "Result DataFrame exists\n",
      "Result DataFrame initialized\n",
      "Result DataFrame exists\n",
      "Result DataFrame exists\n",
      "Result DataFrame initialized\n",
      "Result DataFrame exists\n",
      "Result DataFrame exists\n",
      "Result DataFrame initialized\n",
      "Result DataFrame exists\n",
      "Result DataFrame exists\n",
      "Result DataFrame initialized\n",
      "Result DataFrame exists\n",
      "Result DataFrame exists\n",
      "Result DataFrame initialized\n",
      "Result DataFrame exists\n",
      "Result DataFrame exists\n",
      "Result DataFrame initialized\n",
      "Result DataFrame exists\n",
      "Result DataFrame exists\n",
      "Result DataFrame initialized\n",
      "Result DataFrame exists\n",
      "Result DataFrame exists\n",
      "Result DataFrame initialized\n",
      "Result DataFrame exists\n",
      "Result DataFrame exists\n",
      "Result DataFrame initialized\n",
      "Result DataFrame exists\n",
      "Result DataFrame exists\n",
      "Result DataFrame initialized\n",
      "Result DataFrame exists\n",
      "Result DataFrame exists\n",
      "Result DataFrame initialized\n",
      "Result DataFrame exists\n",
      "Result DataFrame exists\n",
      "Result DataFrame initialized\n",
      "Result DataFrame exists\n",
      "Result DataFrame exists\n",
      "Result DataFrame initialized\n",
      "Result DataFrame exists\n",
      "Result DataFrame exists\n",
      "Result DataFrame initialized\n",
      "Result DataFrame exists\n",
      "Result DataFrame exists\n",
      "Result DataFrame initialized\n",
      "Result DataFrame exists\n",
      "Result DataFrame exists\n",
      "Result DataFrame initialized\n",
      "Result DataFrame exists\n",
      "Result DataFrame exists\n",
      "Result DataFrame initialized\n",
      "Result DataFrame exists\n",
      "Result DataFrame exists\n"
     ]
    }
   ],
   "source": [
    "for c in classes:\n",
    "    for g in genes:\n",
    "        scores = scores_calculation(student_pos, c, g, res_df=None)\n",
    "        scores = scores_calculation(fisher_pos, c, g, res_df=scores)\n",
    "        scores = scores_calculation(kl_pos, c, g, res_df=scores)\n",
    "        scores.to_csv(\"scores/position/\" + c + \"_\" + g + \".csv\")"
   ]
  },
  {
   "cell_type": "markdown",
   "id": "a1f5f784-8f53-4388-bc53-facdc1aaaa63",
   "metadata": {},
   "source": [
    "## FoldChange"
   ]
  },
  {
   "cell_type": "code",
   "execution_count": 97,
   "id": "7824e6b2-f0e3-40eb-a2b1-4b726cf8c4e5",
   "metadata": {},
   "outputs": [],
   "source": [
    "data = pd.read_excel('Tests/Positions_new/foldChange.xlsx')"
   ]
  },
  {
   "cell_type": "code",
   "execution_count": 98,
   "id": "7721a9c0-d2bc-48ac-a70f-18de5a57ce5b",
   "metadata": {},
   "outputs": [],
   "source": [
    "data = data.fillna('NA')"
   ]
  },
  {
   "cell_type": "code",
   "execution_count": 99,
   "id": "a77f9786-710f-4516-b841-37fa56f7759e",
   "metadata": {},
   "outputs": [
    {
     "data": {
      "text/html": [
       "<div>\n",
       "<style scoped>\n",
       "    .dataframe tbody tr th:only-of-type {\n",
       "        vertical-align: middle;\n",
       "    }\n",
       "\n",
       "    .dataframe tbody tr th {\n",
       "        vertical-align: top;\n",
       "    }\n",
       "\n",
       "    .dataframe thead th {\n",
       "        text-align: right;\n",
       "    }\n",
       "</style>\n",
       "<table border=\"1\" class=\"dataframe\">\n",
       "  <thead>\n",
       "    <tr style=\"text-align: right;\">\n",
       "      <th></th>\n",
       "      <th>Unnamed: 0</th>\n",
       "      <th>codon</th>\n",
       "      <th>genes</th>\n",
       "      <th>classes</th>\n",
       "      <th>positions</th>\n",
       "      <th>fc</th>\n",
       "      <th>sign</th>\n",
       "    </tr>\n",
       "  </thead>\n",
       "  <tbody>\n",
       "    <tr>\n",
       "      <th>0</th>\n",
       "      <td>0</td>\n",
       "      <td>AAA</td>\n",
       "      <td>NA</td>\n",
       "      <td>Av_Hu</td>\n",
       "      <td>[[0, 30], [30, 60], [60, 90], [90, 120], [120,...</td>\n",
       "      <td>[0.375377919564564, 1.195641744263121, 1.12634...</td>\n",
       "      <td>[1, -1, -1, 1, -1, -1, 1, -1, 1, -1, -1, 1, 1,...</td>\n",
       "    </tr>\n",
       "    <tr>\n",
       "      <th>1</th>\n",
       "      <td>1</td>\n",
       "      <td>AAA</td>\n",
       "      <td>NA</td>\n",
       "      <td>Av_Sw</td>\n",
       "      <td>[[0, 30], [30, 60], [60, 90], [90, 120], [120,...</td>\n",
       "      <td>[0.6987032605570893, 2.080346805194999, 1.0244...</td>\n",
       "      <td>[1, -1, -1, -1, 1, 1, 1, 1, -1, -1, -1, -1, 1,...</td>\n",
       "    </tr>\n",
       "    <tr>\n",
       "      <th>2</th>\n",
       "      <td>2</td>\n",
       "      <td>AAA</td>\n",
       "      <td>NA</td>\n",
       "      <td>Hu_Av</td>\n",
       "      <td>[[0, 30], [30, 60], [60, 90], [90, 120], [120,...</td>\n",
       "      <td>[0.490911233438939, 0.0914298793730141, 2.1442...</td>\n",
       "      <td>[1, 1, -1, 1, 1, 1, -1, 1, -1, -1, 1, -1, -1, ...</td>\n",
       "    </tr>\n",
       "    <tr>\n",
       "      <th>3</th>\n",
       "      <td>3</td>\n",
       "      <td>AAA</td>\n",
       "      <td>NA</td>\n",
       "      <td>Hu_Sw</td>\n",
       "      <td>[[0, 30], [30, 60], [60, 90], [90, 120], [120,...</td>\n",
       "      <td>[0.3110277116952257, 0.36152389689469533, 1.20...</td>\n",
       "      <td>[1, 1, -1, 1, 1, 1, -1, 1, -1, -1, -1, 1, -1, ...</td>\n",
       "    </tr>\n",
       "    <tr>\n",
       "      <th>4</th>\n",
       "      <td>4</td>\n",
       "      <td>AAA</td>\n",
       "      <td>NA</td>\n",
       "      <td>Sw_Av</td>\n",
       "      <td>[[0, 30], [30, 60], [60, 90], [90, 120], [120,...</td>\n",
       "      <td>[0.5823530585570754, 0.6758921953048931, 1.274...</td>\n",
       "      <td>[1, 1, -1, 1, 1, 1, -1, -1, -1, -1, 1, 1, -1, ...</td>\n",
       "    </tr>\n",
       "  </tbody>\n",
       "</table>\n",
       "</div>"
      ],
      "text/plain": [
       "   Unnamed: 0 codon genes classes  \\\n",
       "0           0   AAA    NA   Av_Hu   \n",
       "1           1   AAA    NA   Av_Sw   \n",
       "2           2   AAA    NA   Hu_Av   \n",
       "3           3   AAA    NA   Hu_Sw   \n",
       "4           4   AAA    NA   Sw_Av   \n",
       "\n",
       "                                           positions  \\\n",
       "0  [[0, 30], [30, 60], [60, 90], [90, 120], [120,...   \n",
       "1  [[0, 30], [30, 60], [60, 90], [90, 120], [120,...   \n",
       "2  [[0, 30], [30, 60], [60, 90], [90, 120], [120,...   \n",
       "3  [[0, 30], [30, 60], [60, 90], [90, 120], [120,...   \n",
       "4  [[0, 30], [30, 60], [60, 90], [90, 120], [120,...   \n",
       "\n",
       "                                                  fc  \\\n",
       "0  [0.375377919564564, 1.195641744263121, 1.12634...   \n",
       "1  [0.6987032605570893, 2.080346805194999, 1.0244...   \n",
       "2  [0.490911233438939, 0.0914298793730141, 2.1442...   \n",
       "3  [0.3110277116952257, 0.36152389689469533, 1.20...   \n",
       "4  [0.5823530585570754, 0.6758921953048931, 1.274...   \n",
       "\n",
       "                                                sign  \n",
       "0  [1, -1, -1, 1, -1, -1, 1, -1, 1, -1, -1, 1, 1,...  \n",
       "1  [1, -1, -1, -1, 1, 1, 1, 1, -1, -1, -1, -1, 1,...  \n",
       "2  [1, 1, -1, 1, 1, 1, -1, 1, -1, -1, 1, -1, -1, ...  \n",
       "3  [1, 1, -1, 1, 1, 1, -1, 1, -1, -1, -1, 1, -1, ...  \n",
       "4  [1, 1, -1, 1, 1, 1, -1, -1, -1, -1, 1, 1, -1, ...  "
      ]
     },
     "execution_count": 99,
     "metadata": {},
     "output_type": "execute_result"
    }
   ],
   "source": [
    "data.head()"
   ]
  },
  {
   "cell_type": "code",
   "execution_count": 100,
   "id": "a3ebd1ef-5320-4fc4-b1aa-7476048f8e3b",
   "metadata": {},
   "outputs": [],
   "source": [
    "dict_cols = {\"[0, 30]\": 30, \"[30, 60]\": 60, \"[60, 90]\": 90, \"[90, 120]\": 120, \"[120, 150]\": 150, \"[150, 180]\": 180, \"[180, 210]\": 210, \"[210, 240]\": 240,\n",
    "                        \"[240, 270]\": 270, \"[270, 300]\": 300, \"[300, 330]\": 330, \"[330, 360]\": 360, \"[360, 390]\": 390, \"[390, 420]\": 420, \"[420, 450]\": 450,\n",
    "                        \"[450, 480]\": 480, \"[480, 510]\": 510, \"[510, 540]\": 540, \"[540, 570]\": 570, \"[570, 600]\": 600, \"[600, 630]\": 630, \"[630, 660]\": 660,\n",
    "                        \"[660, 690]\": 690, \"[690, 720]\": 720, \"[720, 750]\": 750, \"[750, 770]\": 770}"
   ]
  },
  {
   "cell_type": "code",
   "execution_count": 101,
   "id": "7760ff1e-2f35-4291-b9e0-6cb052ecc426",
   "metadata": {},
   "outputs": [],
   "source": [
    "dict_cols = {30:0 , 60:1 , 90:2 , 120:3 , 150:4 , 180:5 , 210:6 , 240:7 ,\n",
    "                        270:8 , 300:9 , 330:10 , 360:11 , 390:12 , 420:13 , 450:14 ,\n",
    "                        480: 15 , 510:16 , 540:17 , 570:18 , 600:19 , 630:20 , 660:21 ,\n",
    "                        690:22 , 720:23 , 750:24 , 770:25 }"
   ]
  },
  {
   "cell_type": "code",
   "execution_count": 102,
   "id": "d7067352-bc8d-4949-8f27-49b7e641e1dd",
   "metadata": {},
   "outputs": [],
   "source": [
    "dict_classes = {'Av_Hu': \"avian\", 'Av_Sw': \"avian\", 'Hu_Av': \"human\", 'Hu_Sw': \"human\", 'Sw_Av': \"swine\", 'Sw_Hu': \"swine\"}"
   ]
  },
  {
   "cell_type": "code",
   "execution_count": 103,
   "id": "42069d23-469d-4da2-9afb-81f59c4fb481",
   "metadata": {},
   "outputs": [],
   "source": [
    "max_lenght = {\n",
    "    \"avian_NA\" : 470,\n",
    "    \"avian_PA\" : 780,\n",
    "    \"avian_HA\" : 592,\n",
    "    \"avian_PB1\" : 758,\n",
    "    \"avian_PB2\" : 760,\n",
    "    \"avian_MP\" : 362,\n",
    "    \"avian_NP\" : 499,\n",
    "    \"avian_NS\" : 296,\n",
    "    \"human_NA\" : 470,\n",
    "    \"human_PA\" : 717,\n",
    "    \"human_HA\" : 567,\n",
    "    \"human_PB1\" : 758,\n",
    "    \"human_PB2\" : 760,\n",
    "    \"human_MP\" : 336,\n",
    "    \"human_NP\" : 499,\n",
    "    \"human_NS\" : 296,\n",
    "    \"swine_NA\" : 470,\n",
    "    \"swine_PA\" : 717,\n",
    "    \"swine_HA\" : 567,\n",
    "    \"swine_PB1\" : 758,\n",
    "    \"swine_PB2\" : 760,\n",
    "    \"swine_MP\" : 339,\n",
    "    \"swine_NP\" : 499,\n",
    "    \"swine_NS\" : 296\n",
    "}"
   ]
  },
  {
   "cell_type": "code",
   "execution_count": 106,
   "id": "ff4cd0d7-8af9-4127-8247-865ba5e64cfd",
   "metadata": {
    "tags": []
   },
   "outputs": [],
   "source": [
    "def find_max_index(cg_max):\n",
    "    for index in dict_cols.keys():\n",
    "        if cg_max <= index:\n",
    "            return dict_cols[index]+1\n",
    "    return 26"
   ]
  },
  {
   "cell_type": "code",
   "execution_count": 109,
   "id": "7691f295-2be8-4254-8127-ca9627a90d3d",
   "metadata": {},
   "outputs": [
    {
     "name": "stderr",
     "output_type": "stream",
     "text": [
      "/cm/shared/apps/anaconda/3-5.3.1/lib/python3.7/site-packages/ipykernel_launcher.py:4: UserWarning: Boolean Series key will be reindexed to match DataFrame index.\n",
      "  after removing the cwd from sys.path.\n"
     ]
    }
   ],
   "source": [
    "for c in classes:\n",
    "    for g in genes:\n",
    "        scores = pd.read_csv(\"scores/position/\" + c + \"_\" + g + \".csv\", index_col=0)\n",
    "        fc = data[data['classes']==c][data['genes']==g].reset_index()\n",
    "        \n",
    "        for i in range(len(fc)):\n",
    "            codon = fc['codon'][i]\n",
    "            \n",
    "            positions = str(fc['positions'][i])\n",
    "            positions = uniform_positions(positions)\n",
    "            foldChange_positions = [str(item) for item in json.loads(positions)]\n",
    "            foldChange_values = np.array([str(item) for item in json.loads(fc['sign'][i])], dtype='int64')\n",
    "\n",
    "            for i, p in enumerate(foldChange_positions):\n",
    "                scores.loc[codon][p] *= foldChange_values[i]\n",
    "        cg_max = max_lenght[dict_classes[c] + \"_\" + g]\n",
    "        idx_max = find_max_index(cg_max)\n",
    "        scores = scores.iloc[:, :idx_max]\n",
    "        scores.to_csv(\"scores/position/signed_\" + c + \"_\" + g + \".csv\")\n"
   ]
  },
  {
   "cell_type": "code",
   "execution_count": null,
   "id": "7610af83-e917-4c91-a5be-e9f55cf70f00",
   "metadata": {},
   "outputs": [],
   "source": []
  }
 ],
 "metadata": {
  "kernelspec": {
   "display_name": "Python 3",
   "language": "python",
   "name": "python3"
  },
  "language_info": {
   "codemirror_mode": {
    "name": "ipython",
    "version": 3
   },
   "file_extension": ".py",
   "mimetype": "text/x-python",
   "name": "python",
   "nbconvert_exporter": "python",
   "pygments_lexer": "ipython3",
   "version": "3.7.7"
  }
 },
 "nbformat": 4,
 "nbformat_minor": 5
}
